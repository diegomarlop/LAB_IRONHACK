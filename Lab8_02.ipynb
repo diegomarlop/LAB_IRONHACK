{
  "nbformat": 4,
  "nbformat_minor": 0,
  "metadata": {
    "colab": {
      "provenance": [],
      "authorship_tag": "ABX9TyMb2SgT1PibqBg7UVvQb4I3",
      "include_colab_link": true
    },
    "kernelspec": {
      "name": "python3",
      "display_name": "Python 3"
    },
    "language_info": {
      "name": "python"
    }
  },
  "cells": [
    {
      "cell_type": "markdown",
      "metadata": {
        "id": "view-in-github",
        "colab_type": "text"
      },
      "source": [
        "<a href=\"https://colab.research.google.com/github/diegomarlop/LAB_IRONHACK/blob/main/Lab8_02.ipynb\" target=\"_parent\"><img src=\"https://colab.research.google.com/assets/colab-badge.svg\" alt=\"Open In Colab\"/></a>"
      ]
    },
    {
      "cell_type": "markdown",
      "source": [
        "#Lab | Web Scraping Multiple Pages\n",
        "###Expand the project\n",
        "If you're done, you can try to expand the project on your own. Here are a few suggestions:\n",
        "\n",
        "Find other lists of hot songs on the internet and scrape them too: having a bigger pool of songs will be awesome!\n",
        "\n",
        "Apply the same logic to other \"groups\" of songs: the best songs from a decade or from a country / culture / language / genre.\n",
        "\n",
        "Wikipedia maintains a large collection of lists of songs: https://en.wikipedia.org/wiki/Lists_of_songs"
      ],
      "metadata": {
        "id": "qnKlYTTMvmSJ"
      }
    },
    {
      "cell_type": "code",
      "execution_count": 1,
      "metadata": {
        "id": "CXe2lLIEvjyn"
      },
      "outputs": [],
      "source": [
        "import requests \n",
        "from bs4 import BeautifulSoup\n",
        "url = \"https://en.wikipedia.org/wiki/List_of_songs_recorded_by_Slipknot\"\n",
        "music_slipknot = requests.get(url).content\n",
        "soup = BeautifulSoup(music_slipknot,'html.parser')"
      ]
    },
    {
      "cell_type": "code",
      "source": [
        "soup.find_all('th')"
      ],
      "metadata": {
        "id": "R_iOTOM5Axv1"
      },
      "execution_count": null,
      "outputs": []
    },
    {
      "cell_type": "code",
      "source": [
        "song= []\n",
        "for songs in soup.find_all(['th']):\n",
        "  s = songs.get_text(strip=True)\n",
        "  song.append(s)\n"
      ],
      "metadata": {
        "id": "3JRYg9bazmut"
      },
      "execution_count": 3,
      "outputs": []
    },
    {
      "cell_type": "code",
      "source": [
        "del song[:6]"
      ],
      "metadata": {
        "id": "72Zj9jRrHLRX"
      },
      "execution_count": 5,
      "outputs": []
    },
    {
      "cell_type": "code",
      "source": [
        "del song[115:]"
      ],
      "metadata": {
        "id": "_Bt7q3THHTnw"
      },
      "execution_count": 7,
      "outputs": []
    },
    {
      "cell_type": "code",
      "source": [
        "song"
      ],
      "metadata": {
        "colab": {
          "base_uri": "https://localhost:8080/"
        },
        "id": "KgYKV3OJC-2a",
        "outputId": "81b28aa8-403c-4633-e79f-a680133e08ff"
      },
      "execution_count": null,
      "outputs": [
        {
          "output_type": "execute_result",
          "data": {
            "text/plain": [
              "['\"\\'Til We Die\"',\n",
              " '\"(515)\"',\n",
              " '\"(sic)\"',\n",
              " '\".execute.\"',\n",
              " '\"742617000027\"',\n",
              " '\"Acidic\"',\n",
              " '\"All Hope Is Gone\"',\n",
              " '\"Adderall\"',\n",
              " '\"All Out Life\"',\n",
              " '\"A Liar\\'s Funeral\"',\n",
              " '\"AOV\"',\n",
              " '\"Be Prepared for Hell\"',\n",
              " '\"Before I Forget\"',\n",
              " '\"Birth of the Cruel\"',\n",
              " '\"Bone Church\"',\n",
              " '\"Butcher\\'s Hook\"',\n",
              " '\"Child of Burning Time\"',\n",
              " '\"Circle\"',\n",
              " '\"Confessions\"',\n",
              " '\"Critical Darling\"',\n",
              " '\"Custer\"',\n",
              " '\"Danger – Keep Away\"',\n",
              " '\"De Sade\"',\n",
              " '\"Dead Memories\"',\n",
              " '\"Death Because of Death\"',\n",
              " '\"Despise\"',\n",
              " '\"Diluted\"',\n",
              " '\"Disasterpiece\"',\n",
              " '\"Do Nothing/Bitchslap\"',\n",
              " '\"Dogfish Rising\"',\n",
              " '\"Don\\'t Get Close\"',\n",
              " '\"Duality\"',\n",
              " '\"Eeyore\"',\n",
              " '\"Everything Ends\"',\n",
              " '\"Eyeless\"',\n",
              " '\"Finale\"',\n",
              " '\"Frail Limb Nursery\"',\n",
              " '\"Gehenna\"',\n",
              " '\"Gematria (The Killing Name)\"',\n",
              " '\"Gently\"',\n",
              " '\"Get This\"',\n",
              " '\"Goodbye\"',\n",
              " '\"H377\"',\n",
              " '\"Heirloom\"',\n",
              " '\"Hive Mind\"',\n",
              " '\"I Am Hated\"',\n",
              " '\"If Rain Is What You Want\"',\n",
              " '\"Insert Coin\"',\n",
              " '\"Interloper\"',\n",
              " '\"Iowa\"',\n",
              " '\"Killers Are Quiet\"',\n",
              " '\"Killpop\"',\n",
              " '\"Lech\"',\n",
              " '\"Left Behind\"',\n",
              " '\"Liberate\"',\n",
              " '\"Medicine for the Dead\"',\n",
              " '\"Me Inside\"',\n",
              " '\"Metabolic\"',\n",
              " '\"My Pain\"',\n",
              " '\"My Plague\"',\n",
              " '\"New Abortion\"',\n",
              " '\"Nero Forte\"',\n",
              " '\"No Life\"',\n",
              " '\"Nomadic\"',\n",
              " '\"Not Long for This World\"',\n",
              " '\"Only One\"',\n",
              " '\"Opium of the People\"',\n",
              " '\"Orphan\"',\n",
              " '\"Override\"',\n",
              " '\"People = Shit\"',\n",
              " '\"Prelude 3.0\"',\n",
              " '\"Prosthetics\"',\n",
              " '\"Psychosocial\"',\n",
              " '\"Pulse of the Maggots\"',\n",
              " '\"Purity\"',\n",
              " '\"Red Flag\"',\n",
              " '\"Sarcastrophe\"',\n",
              " '\"Scissors\"',\n",
              " '\"Scream\"',\n",
              " '\"Skeptic\"',\n",
              " '\"Skin Ticket\"',\n",
              " '\"Slipknot\"',\n",
              " '\"Snap\"',\n",
              " '\"Snuff\"',\n",
              " '\"Solway Firth\"',\n",
              " '\"Some Feel\"',\n",
              " '\"Spiders\"',\n",
              " '\"Spit It Out\"',\n",
              " '\"Sulfur\"',\n",
              " '\"Surfacing\"',\n",
              " '\"Tattered & Torn\"',\n",
              " '\"The Blister Exists\"',\n",
              " '\"The Burden\"',\n",
              " '\"The Chapeltown Rag\"',\n",
              " '\"The Devil in I\"',\n",
              " '\"The Dying Song (Time to Sing)\"',\n",
              " '\"The Heretic Anthem\"',\n",
              " '\"The Nameless\"',\n",
              " '\"The Negative One\"',\n",
              " '\"The One That Kills the Least\"',\n",
              " '\"The Shape\"',\n",
              " '\"The Virus of Life\"',\n",
              " '\"This Cold Black\"',\n",
              " '\"Three Nil\"',\n",
              " '\"Unsainted\"',\n",
              " '\"Vendetta\"',\n",
              " '\"Vermilion\"',\n",
              " '\"Vermilion Pt. 2\"',\n",
              " '\"Wait and Bleed\"',\n",
              " '\"Warranty\"',\n",
              " '\"Welcome\"',\n",
              " '\"What\\'s Next\"',\n",
              " '\"Wherein Lies Continue\"',\n",
              " '\"XIX\"',\n",
              " '\"Yen\"']"
            ]
          },
          "metadata": {},
          "execution_count": 115
        }
      ]
    },
    {
      "cell_type": "code",
      "source": [
        "l=[]\n",
        "for year in soup.find_all(['td']):\n",
        "   y = year.get_text(strip=True)\n",
        "   l.append(y)"
      ],
      "metadata": {
        "id": "uW-K0c0AHt0J"
      },
      "execution_count": null,
      "outputs": []
    },
    {
      "cell_type": "code",
      "source": [
        "import re \n",
        "r = re.compile('\\d+')\n",
        "new_list=list(filter(r.match,l))"
      ],
      "metadata": {
        "id": "-KvmZDeANHVd"
      },
      "execution_count": null,
      "outputs": []
    },
    {
      "cell_type": "code",
      "source": [
        "new_list"
      ],
      "metadata": {
        "colab": {
          "base_uri": "https://localhost:8080/"
        },
        "id": "gF6DGzdRNXPp",
        "outputId": "a1a9e4c8-a70b-497f-8b20-590eed3d6a97"
      },
      "execution_count": null,
      "outputs": [
        {
          "output_type": "execute_result",
          "data": {
            "text/plain": [
              "['2008',\n",
              " '2001',\n",
              " '1999',\n",
              " '2008',\n",
              " '1999',\n",
              " '2022',\n",
              " '2008',\n",
              " '2022',\n",
              " '2018',\n",
              " '2019',\n",
              " '2014',\n",
              " '2014',\n",
              " '2004',\n",
              " '2019',\n",
              " '2023',\n",
              " '2008',\n",
              " '2008',\n",
              " '2004',\n",
              " '1996',\n",
              " '2019',\n",
              " '2014',\n",
              " '2004',\n",
              " '2022',\n",
              " '2008',\n",
              " '2019',\n",
              " '1999',\n",
              " '1999',\n",
              " '2001',\n",
              " '1996',\n",
              " '1996',\n",
              " '2004',\n",
              " '2004',\n",
              " '1999',\n",
              " '2001',\n",
              " '1999',\n",
              " '2022',\n",
              " '1999',\n",
              " '2008',\n",
              " '2008',\n",
              " '2001',\n",
              " '1999',\n",
              " '2014',\n",
              " '2022',\n",
              " '2022',\n",
              " '2022',\n",
              " '2001',\n",
              " '2014',\n",
              " '2019',\n",
              " '1999',\n",
              " '2001',\n",
              " '1996',\n",
              " '2014',\n",
              " '2014',\n",
              " '2001',\n",
              " '1999',\n",
              " '2022',\n",
              " '1999',\n",
              " '2001',\n",
              " '2019',\n",
              " '2001',\n",
              " '2001',\n",
              " '2019',\n",
              " '1999',\n",
              " '2014',\n",
              " '2019',\n",
              " '1999',\n",
              " '2004',\n",
              " '2019',\n",
              " '2014',\n",
              " '2001',\n",
              " '2004',\n",
              " '1999',\n",
              " '2008',\n",
              " '2004',\n",
              " '1999',\n",
              " '2019',\n",
              " '2014',\n",
              " '1999',\n",
              " '2004',\n",
              " '2014',\n",
              " '2001',\n",
              " '1996',\n",
              " '1999',\n",
              " '2008',\n",
              " '2019',\n",
              " '1996',\n",
              " '2019',\n",
              " '1999',\n",
              " '2008',\n",
              " '1999',\n",
              " '1999',\n",
              " '2004',\n",
              " '2014',\n",
              " '2021',\n",
              " '2014',\n",
              " '2022',\n",
              " '2001',\n",
              " '2004',\n",
              " '2014',\n",
              " '2014',\n",
              " '2001',\n",
              " '2004',\n",
              " '2008',\n",
              " '2004',\n",
              " '2019',\n",
              " '2008',\n",
              " '2004',\n",
              " '2004',\n",
              " '1999',\n",
              " '2022',\n",
              " '2004',\n",
              " '2019',\n",
              " '2008',\n",
              " '2014',\n",
              " '2022']"
            ]
          },
          "metadata": {},
          "execution_count": 165
        }
      ]
    },
    {
      "cell_type": "code",
      "source": [
        "del new_list[-1]"
      ],
      "metadata": {
        "id": "F993zBUIJGnW"
      },
      "execution_count": null,
      "outputs": []
    },
    {
      "cell_type": "code",
      "source": [
        "import pandas as pd \n",
        "music = pd.DataFrame(song)\n",
        "music"
      ],
      "metadata": {
        "colab": {
          "base_uri": "https://localhost:8080/",
          "height": 423
        },
        "id": "AeGIAmF2Ha1r",
        "outputId": "e78b1b3e-ebd4-441f-d9b4-925316a71080"
      },
      "execution_count": null,
      "outputs": [
        {
          "output_type": "execute_result",
          "data": {
            "text/plain": [
              "                           0\n",
              "0              \"'Til We Die\"\n",
              "1                    \"(515)\"\n",
              "2                    \"(sic)\"\n",
              "3                \".execute.\"\n",
              "4             \"742617000027\"\n",
              "..                       ...\n",
              "110                \"Welcome\"\n",
              "111            \"What's Next\"\n",
              "112  \"Wherein Lies Continue\"\n",
              "113                    \"XIX\"\n",
              "114                    \"Yen\"\n",
              "\n",
              "[115 rows x 1 columns]"
            ],
            "text/html": [
              "\n",
              "  <div id=\"df-185fab18-404a-459c-8384-5c1d10bae6eb\">\n",
              "    <div class=\"colab-df-container\">\n",
              "      <div>\n",
              "<style scoped>\n",
              "    .dataframe tbody tr th:only-of-type {\n",
              "        vertical-align: middle;\n",
              "    }\n",
              "\n",
              "    .dataframe tbody tr th {\n",
              "        vertical-align: top;\n",
              "    }\n",
              "\n",
              "    .dataframe thead th {\n",
              "        text-align: right;\n",
              "    }\n",
              "</style>\n",
              "<table border=\"1\" class=\"dataframe\">\n",
              "  <thead>\n",
              "    <tr style=\"text-align: right;\">\n",
              "      <th></th>\n",
              "      <th>0</th>\n",
              "    </tr>\n",
              "  </thead>\n",
              "  <tbody>\n",
              "    <tr>\n",
              "      <th>0</th>\n",
              "      <td>\"'Til We Die\"</td>\n",
              "    </tr>\n",
              "    <tr>\n",
              "      <th>1</th>\n",
              "      <td>\"(515)\"</td>\n",
              "    </tr>\n",
              "    <tr>\n",
              "      <th>2</th>\n",
              "      <td>\"(sic)\"</td>\n",
              "    </tr>\n",
              "    <tr>\n",
              "      <th>3</th>\n",
              "      <td>\".execute.\"</td>\n",
              "    </tr>\n",
              "    <tr>\n",
              "      <th>4</th>\n",
              "      <td>\"742617000027\"</td>\n",
              "    </tr>\n",
              "    <tr>\n",
              "      <th>...</th>\n",
              "      <td>...</td>\n",
              "    </tr>\n",
              "    <tr>\n",
              "      <th>110</th>\n",
              "      <td>\"Welcome\"</td>\n",
              "    </tr>\n",
              "    <tr>\n",
              "      <th>111</th>\n",
              "      <td>\"What's Next\"</td>\n",
              "    </tr>\n",
              "    <tr>\n",
              "      <th>112</th>\n",
              "      <td>\"Wherein Lies Continue\"</td>\n",
              "    </tr>\n",
              "    <tr>\n",
              "      <th>113</th>\n",
              "      <td>\"XIX\"</td>\n",
              "    </tr>\n",
              "    <tr>\n",
              "      <th>114</th>\n",
              "      <td>\"Yen\"</td>\n",
              "    </tr>\n",
              "  </tbody>\n",
              "</table>\n",
              "<p>115 rows × 1 columns</p>\n",
              "</div>\n",
              "      <button class=\"colab-df-convert\" onclick=\"convertToInteractive('df-185fab18-404a-459c-8384-5c1d10bae6eb')\"\n",
              "              title=\"Convert this dataframe to an interactive table.\"\n",
              "              style=\"display:none;\">\n",
              "        \n",
              "  <svg xmlns=\"http://www.w3.org/2000/svg\" height=\"24px\"viewBox=\"0 0 24 24\"\n",
              "       width=\"24px\">\n",
              "    <path d=\"M0 0h24v24H0V0z\" fill=\"none\"/>\n",
              "    <path d=\"M18.56 5.44l.94 2.06.94-2.06 2.06-.94-2.06-.94-.94-2.06-.94 2.06-2.06.94zm-11 1L8.5 8.5l.94-2.06 2.06-.94-2.06-.94L8.5 2.5l-.94 2.06-2.06.94zm10 10l.94 2.06.94-2.06 2.06-.94-2.06-.94-.94-2.06-.94 2.06-2.06.94z\"/><path d=\"M17.41 7.96l-1.37-1.37c-.4-.4-.92-.59-1.43-.59-.52 0-1.04.2-1.43.59L10.3 9.45l-7.72 7.72c-.78.78-.78 2.05 0 2.83L4 21.41c.39.39.9.59 1.41.59.51 0 1.02-.2 1.41-.59l7.78-7.78 2.81-2.81c.8-.78.8-2.07 0-2.86zM5.41 20L4 18.59l7.72-7.72 1.47 1.35L5.41 20z\"/>\n",
              "  </svg>\n",
              "      </button>\n",
              "      \n",
              "  <style>\n",
              "    .colab-df-container {\n",
              "      display:flex;\n",
              "      flex-wrap:wrap;\n",
              "      gap: 12px;\n",
              "    }\n",
              "\n",
              "    .colab-df-convert {\n",
              "      background-color: #E8F0FE;\n",
              "      border: none;\n",
              "      border-radius: 50%;\n",
              "      cursor: pointer;\n",
              "      display: none;\n",
              "      fill: #1967D2;\n",
              "      height: 32px;\n",
              "      padding: 0 0 0 0;\n",
              "      width: 32px;\n",
              "    }\n",
              "\n",
              "    .colab-df-convert:hover {\n",
              "      background-color: #E2EBFA;\n",
              "      box-shadow: 0px 1px 2px rgba(60, 64, 67, 0.3), 0px 1px 3px 1px rgba(60, 64, 67, 0.15);\n",
              "      fill: #174EA6;\n",
              "    }\n",
              "\n",
              "    [theme=dark] .colab-df-convert {\n",
              "      background-color: #3B4455;\n",
              "      fill: #D2E3FC;\n",
              "    }\n",
              "\n",
              "    [theme=dark] .colab-df-convert:hover {\n",
              "      background-color: #434B5C;\n",
              "      box-shadow: 0px 1px 3px 1px rgba(0, 0, 0, 0.15);\n",
              "      filter: drop-shadow(0px 1px 2px rgba(0, 0, 0, 0.3));\n",
              "      fill: #FFFFFF;\n",
              "    }\n",
              "  </style>\n",
              "\n",
              "      <script>\n",
              "        const buttonEl =\n",
              "          document.querySelector('#df-185fab18-404a-459c-8384-5c1d10bae6eb button.colab-df-convert');\n",
              "        buttonEl.style.display =\n",
              "          google.colab.kernel.accessAllowed ? 'block' : 'none';\n",
              "\n",
              "        async function convertToInteractive(key) {\n",
              "          const element = document.querySelector('#df-185fab18-404a-459c-8384-5c1d10bae6eb');\n",
              "          const dataTable =\n",
              "            await google.colab.kernel.invokeFunction('convertToInteractive',\n",
              "                                                     [key], {});\n",
              "          if (!dataTable) return;\n",
              "\n",
              "          const docLinkHtml = 'Like what you see? Visit the ' +\n",
              "            '<a target=\"_blank\" href=https://colab.research.google.com/notebooks/data_table.ipynb>data table notebook</a>'\n",
              "            + ' to learn more about interactive tables.';\n",
              "          element.innerHTML = '';\n",
              "          dataTable['output_type'] = 'display_data';\n",
              "          await google.colab.output.renderOutput(dataTable, element);\n",
              "          const docLink = document.createElement('div');\n",
              "          docLink.innerHTML = docLinkHtml;\n",
              "          element.appendChild(docLink);\n",
              "        }\n",
              "      </script>\n",
              "    </div>\n",
              "  </div>\n",
              "  "
            ]
          },
          "metadata": {},
          "execution_count": 116
        }
      ]
    },
    {
      "cell_type": "code",
      "source": [
        "music['year'] = new_list"
      ],
      "metadata": {
        "id": "LIUzELuZNi12"
      },
      "execution_count": null,
      "outputs": []
    },
    {
      "cell_type": "code",
      "source": [
        "music.columns=['song','year']"
      ],
      "metadata": {
        "id": "2fXNBx31OE49"
      },
      "execution_count": null,
      "outputs": []
    },
    {
      "cell_type": "code",
      "source": [
        "music"
      ],
      "metadata": {
        "colab": {
          "base_uri": "https://localhost:8080/",
          "height": 423
        },
        "id": "Vp8EFRXUOhZ2",
        "outputId": "e81b6484-f7b9-492c-f14a-429a4a682a26"
      },
      "execution_count": null,
      "outputs": [
        {
          "output_type": "execute_result",
          "data": {
            "text/plain": [
              "                        song  year\n",
              "0              \"'Til We Die\"  2008\n",
              "1                    \"(515)\"  2001\n",
              "2                    \"(sic)\"  1999\n",
              "3                \".execute.\"  2008\n",
              "4             \"742617000027\"  1999\n",
              "..                       ...   ...\n",
              "110                \"Welcome\"  2004\n",
              "111            \"What's Next\"  2019\n",
              "112  \"Wherein Lies Continue\"  2008\n",
              "113                    \"XIX\"  2014\n",
              "114                    \"Yen\"  2022\n",
              "\n",
              "[115 rows x 2 columns]"
            ],
            "text/html": [
              "\n",
              "  <div id=\"df-807ac304-fee8-4b57-802e-0a78be6146b7\">\n",
              "    <div class=\"colab-df-container\">\n",
              "      <div>\n",
              "<style scoped>\n",
              "    .dataframe tbody tr th:only-of-type {\n",
              "        vertical-align: middle;\n",
              "    }\n",
              "\n",
              "    .dataframe tbody tr th {\n",
              "        vertical-align: top;\n",
              "    }\n",
              "\n",
              "    .dataframe thead th {\n",
              "        text-align: right;\n",
              "    }\n",
              "</style>\n",
              "<table border=\"1\" class=\"dataframe\">\n",
              "  <thead>\n",
              "    <tr style=\"text-align: right;\">\n",
              "      <th></th>\n",
              "      <th>song</th>\n",
              "      <th>year</th>\n",
              "    </tr>\n",
              "  </thead>\n",
              "  <tbody>\n",
              "    <tr>\n",
              "      <th>0</th>\n",
              "      <td>\"'Til We Die\"</td>\n",
              "      <td>2008</td>\n",
              "    </tr>\n",
              "    <tr>\n",
              "      <th>1</th>\n",
              "      <td>\"(515)\"</td>\n",
              "      <td>2001</td>\n",
              "    </tr>\n",
              "    <tr>\n",
              "      <th>2</th>\n",
              "      <td>\"(sic)\"</td>\n",
              "      <td>1999</td>\n",
              "    </tr>\n",
              "    <tr>\n",
              "      <th>3</th>\n",
              "      <td>\".execute.\"</td>\n",
              "      <td>2008</td>\n",
              "    </tr>\n",
              "    <tr>\n",
              "      <th>4</th>\n",
              "      <td>\"742617000027\"</td>\n",
              "      <td>1999</td>\n",
              "    </tr>\n",
              "    <tr>\n",
              "      <th>...</th>\n",
              "      <td>...</td>\n",
              "      <td>...</td>\n",
              "    </tr>\n",
              "    <tr>\n",
              "      <th>110</th>\n",
              "      <td>\"Welcome\"</td>\n",
              "      <td>2004</td>\n",
              "    </tr>\n",
              "    <tr>\n",
              "      <th>111</th>\n",
              "      <td>\"What's Next\"</td>\n",
              "      <td>2019</td>\n",
              "    </tr>\n",
              "    <tr>\n",
              "      <th>112</th>\n",
              "      <td>\"Wherein Lies Continue\"</td>\n",
              "      <td>2008</td>\n",
              "    </tr>\n",
              "    <tr>\n",
              "      <th>113</th>\n",
              "      <td>\"XIX\"</td>\n",
              "      <td>2014</td>\n",
              "    </tr>\n",
              "    <tr>\n",
              "      <th>114</th>\n",
              "      <td>\"Yen\"</td>\n",
              "      <td>2022</td>\n",
              "    </tr>\n",
              "  </tbody>\n",
              "</table>\n",
              "<p>115 rows × 2 columns</p>\n",
              "</div>\n",
              "      <button class=\"colab-df-convert\" onclick=\"convertToInteractive('df-807ac304-fee8-4b57-802e-0a78be6146b7')\"\n",
              "              title=\"Convert this dataframe to an interactive table.\"\n",
              "              style=\"display:none;\">\n",
              "        \n",
              "  <svg xmlns=\"http://www.w3.org/2000/svg\" height=\"24px\"viewBox=\"0 0 24 24\"\n",
              "       width=\"24px\">\n",
              "    <path d=\"M0 0h24v24H0V0z\" fill=\"none\"/>\n",
              "    <path d=\"M18.56 5.44l.94 2.06.94-2.06 2.06-.94-2.06-.94-.94-2.06-.94 2.06-2.06.94zm-11 1L8.5 8.5l.94-2.06 2.06-.94-2.06-.94L8.5 2.5l-.94 2.06-2.06.94zm10 10l.94 2.06.94-2.06 2.06-.94-2.06-.94-.94-2.06-.94 2.06-2.06.94z\"/><path d=\"M17.41 7.96l-1.37-1.37c-.4-.4-.92-.59-1.43-.59-.52 0-1.04.2-1.43.59L10.3 9.45l-7.72 7.72c-.78.78-.78 2.05 0 2.83L4 21.41c.39.39.9.59 1.41.59.51 0 1.02-.2 1.41-.59l7.78-7.78 2.81-2.81c.8-.78.8-2.07 0-2.86zM5.41 20L4 18.59l7.72-7.72 1.47 1.35L5.41 20z\"/>\n",
              "  </svg>\n",
              "      </button>\n",
              "      \n",
              "  <style>\n",
              "    .colab-df-container {\n",
              "      display:flex;\n",
              "      flex-wrap:wrap;\n",
              "      gap: 12px;\n",
              "    }\n",
              "\n",
              "    .colab-df-convert {\n",
              "      background-color: #E8F0FE;\n",
              "      border: none;\n",
              "      border-radius: 50%;\n",
              "      cursor: pointer;\n",
              "      display: none;\n",
              "      fill: #1967D2;\n",
              "      height: 32px;\n",
              "      padding: 0 0 0 0;\n",
              "      width: 32px;\n",
              "    }\n",
              "\n",
              "    .colab-df-convert:hover {\n",
              "      background-color: #E2EBFA;\n",
              "      box-shadow: 0px 1px 2px rgba(60, 64, 67, 0.3), 0px 1px 3px 1px rgba(60, 64, 67, 0.15);\n",
              "      fill: #174EA6;\n",
              "    }\n",
              "\n",
              "    [theme=dark] .colab-df-convert {\n",
              "      background-color: #3B4455;\n",
              "      fill: #D2E3FC;\n",
              "    }\n",
              "\n",
              "    [theme=dark] .colab-df-convert:hover {\n",
              "      background-color: #434B5C;\n",
              "      box-shadow: 0px 1px 3px 1px rgba(0, 0, 0, 0.15);\n",
              "      filter: drop-shadow(0px 1px 2px rgba(0, 0, 0, 0.3));\n",
              "      fill: #FFFFFF;\n",
              "    }\n",
              "  </style>\n",
              "\n",
              "      <script>\n",
              "        const buttonEl =\n",
              "          document.querySelector('#df-807ac304-fee8-4b57-802e-0a78be6146b7 button.colab-df-convert');\n",
              "        buttonEl.style.display =\n",
              "          google.colab.kernel.accessAllowed ? 'block' : 'none';\n",
              "\n",
              "        async function convertToInteractive(key) {\n",
              "          const element = document.querySelector('#df-807ac304-fee8-4b57-802e-0a78be6146b7');\n",
              "          const dataTable =\n",
              "            await google.colab.kernel.invokeFunction('convertToInteractive',\n",
              "                                                     [key], {});\n",
              "          if (!dataTable) return;\n",
              "\n",
              "          const docLinkHtml = 'Like what you see? Visit the ' +\n",
              "            '<a target=\"_blank\" href=https://colab.research.google.com/notebooks/data_table.ipynb>data table notebook</a>'\n",
              "            + ' to learn more about interactive tables.';\n",
              "          element.innerHTML = '';\n",
              "          dataTable['output_type'] = 'display_data';\n",
              "          await google.colab.output.renderOutput(dataTable, element);\n",
              "          const docLink = document.createElement('div');\n",
              "          docLink.innerHTML = docLinkHtml;\n",
              "          element.appendChild(docLink);\n",
              "        }\n",
              "      </script>\n",
              "    </div>\n",
              "  </div>\n",
              "  "
            ]
          },
          "metadata": {},
          "execution_count": 169
        }
      ]
    },
    {
      "cell_type": "markdown",
      "source": [
        "###challenges\n"
      ],
      "metadata": {
        "id": "Kqcn1VhfQdF-"
      }
    },
    {
      "cell_type": "code",
      "source": [
        "#Create a Python list with the top ten FBI's Most Wanted names: url = 'https://www.fbi.gov/wanted/topten'"
      ],
      "metadata": {
        "id": "B8BUbzKSOrBZ"
      },
      "execution_count": null,
      "outputs": []
    },
    {
      "cell_type": "code",
      "source": [
        "url = \"https://www.fbi.gov/wanted/topten\"\n",
        "criminals = requests.get(url).content\n",
        "soup = BeautifulSoup(criminals,'html.parser')"
      ],
      "metadata": {
        "id": "XDLJPvF3UwbK"
      },
      "execution_count": null,
      "outputs": []
    },
    {
      "cell_type": "code",
      "source": [
        "most_wanted =[]\n",
        "for names in soup.select('li > h3 > a'):\n",
        "  c =names.get_text()\n",
        "  most_wanted.append(c)"
      ],
      "metadata": {
        "id": "7mUQISNmUwdd"
      },
      "execution_count": null,
      "outputs": []
    },
    {
      "cell_type": "code",
      "source": [
        "most_wanted"
      ],
      "metadata": {
        "colab": {
          "base_uri": "https://localhost:8080/"
        },
        "id": "bmMXiV0NU-QY",
        "outputId": "e9bd6783-02a0-42bf-a73b-1d437f3ee364"
      },
      "execution_count": null,
      "outputs": [
        {
          "output_type": "execute_result",
          "data": {
            "text/plain": [
              "['ALEJANDRO ROSALES CASTILLO',\n",
              " 'YULAN ADONAY ARCHAGA CARIAS',\n",
              " 'RUJA IGNATOVA',\n",
              " 'ARNOLDO JIMENEZ',\n",
              " 'OMAR ALEXANDER CARDENAS',\n",
              " 'ALEXIS FLORES',\n",
              " 'BHADRESHKUMAR CHETANBHAI PATEL',\n",
              " 'JOSE RODOLFO VILLARREAL-HERNANDEZ',\n",
              " 'MICHAEL JAMES PRATT',\n",
              " 'RAFAEL CARO-QUINTERO']"
            ]
          },
          "metadata": {},
          "execution_count": 184
        }
      ]
    },
    {
      "cell_type": "code",
      "source": [
        "#Retrieve an arbitrary Wikipedia page of \"Python\" and create a list of links on that page: url ='https://en.wikipedia.org/wiki/Python'\n",
        "url = \"https://en.wikipedia.org/wiki/Python\"\n",
        "links = requests.get(url).content\n",
        "soup = BeautifulSoup(links,'html.parser')"
      ],
      "metadata": {
        "id": "WNTxvHVXU-Sq"
      },
      "execution_count": null,
      "outputs": []
    },
    {
      "cell_type": "code",
      "source": [
        "link=[]\n",
        "for links in soup.select('a'):\n",
        "  li = links['href']\n",
        "  link.append(li)"
      ],
      "metadata": {
        "id": "qiZlvLjkU-VJ"
      },
      "execution_count": null,
      "outputs": []
    },
    {
      "cell_type": "code",
      "source": [
        "link"
      ],
      "metadata": {
        "id": "_8qaujq6bRLz"
      },
      "execution_count": null,
      "outputs": []
    },
    {
      "cell_type": "code",
      "source": [
        "import re \n",
        "r = re.compile('^h')\n",
        "new=list(filter(r.match,link))"
      ],
      "metadata": {
        "id": "xv5UZmhNbV7q"
      },
      "execution_count": null,
      "outputs": []
    },
    {
      "cell_type": "code",
      "source": [
        "new"
      ],
      "metadata": {
        "colab": {
          "base_uri": "https://localhost:8080/"
        },
        "id": "UwAYxlNvbnQC",
        "outputId": "7660d9f2-59f1-4e61-8c6a-32830a0f9402"
      },
      "execution_count": null,
      "outputs": [
        {
          "output_type": "execute_result",
          "data": {
            "text/plain": [
              "['https://donate.wikimedia.org/wiki/Special:FundraiserRedirector?utm_source=donate&utm_medium=sidebar&utm_campaign=C13_en.wikipedia.org&uselang=en',\n",
              " 'https://www.wikidata.org/wiki/Special:EntityPage/Q747452',\n",
              " 'https://commons.wikimedia.org/wiki/Category:Python',\n",
              " 'https://af.wikipedia.org/wiki/Python',\n",
              " 'https://als.wikipedia.org/wiki/Python',\n",
              " 'https://ar.wikipedia.org/wiki/%D8%A8%D8%A7%D9%8A%D8%AB%D9%88%D9%86_(%D8%AA%D9%88%D8%B6%D9%8A%D8%AD)',\n",
              " 'https://az.wikipedia.org/wiki/Python_(d%C9%99qiql%C9%99%C5%9Fdirm%C9%99)',\n",
              " 'https://bn.wikipedia.org/wiki/%E0%A6%AA%E0%A6%BE%E0%A6%87%E0%A6%A5%E0%A6%A8_(%E0%A6%A6%E0%A7%8D%E0%A6%AC%E0%A7%8D%E0%A6%AF%E0%A6%B0%E0%A7%8D%E0%A6%A5%E0%A6%A4%E0%A6%BE_%E0%A6%A8%E0%A6%BF%E0%A6%B0%E0%A6%B8%E0%A6%A8)',\n",
              " 'https://be.wikipedia.org/wiki/Python',\n",
              " 'https://bg.wikipedia.org/wiki/%D0%9F%D0%B8%D1%82%D0%BE%D0%BD_(%D0%BF%D0%BE%D1%8F%D1%81%D0%BD%D0%B5%D0%BD%D0%B8%D0%B5)',\n",
              " 'https://cs.wikipedia.org/wiki/Python_(rozcestn%C3%ADk)',\n",
              " 'https://da.wikipedia.org/wiki/Python',\n",
              " 'https://de.wikipedia.org/wiki/Python',\n",
              " 'https://eo.wikipedia.org/wiki/Pitono_(apartigilo)',\n",
              " 'https://eu.wikipedia.org/wiki/Python_(argipena)',\n",
              " 'https://fa.wikipedia.org/wiki/%D9%BE%D8%A7%DB%8C%D8%AA%D9%88%D9%86',\n",
              " 'https://fr.wikipedia.org/wiki/Python',\n",
              " 'https://ko.wikipedia.org/wiki/%ED%8C%8C%EC%9D%B4%EC%84%A0',\n",
              " 'https://hr.wikipedia.org/wiki/Python_(razdvojba)',\n",
              " 'https://io.wikipedia.org/wiki/Pitono',\n",
              " 'https://id.wikipedia.org/wiki/Python',\n",
              " 'https://ia.wikipedia.org/wiki/Python_(disambiguation)',\n",
              " 'https://is.wikipedia.org/wiki/Python_(a%C3%B0greining)',\n",
              " 'https://it.wikipedia.org/wiki/Python_(disambigua)',\n",
              " 'https://he.wikipedia.org/wiki/%D7%A4%D7%99%D7%AA%D7%95%D7%9F',\n",
              " 'https://ka.wikipedia.org/wiki/%E1%83%9E%E1%83%98%E1%83%97%E1%83%9D%E1%83%9C%E1%83%98_(%E1%83%9B%E1%83%A0%E1%83%90%E1%83%95%E1%83%90%E1%83%9A%E1%83%9B%E1%83%9C%E1%83%98%E1%83%A8%E1%83%95%E1%83%9C%E1%83%94%E1%83%9A%E1%83%9D%E1%83%95%E1%83%90%E1%83%9C%E1%83%98)',\n",
              " 'https://kg.wikipedia.org/wiki/Mboma_(nyoka)',\n",
              " 'https://la.wikipedia.org/wiki/Python_(discretiva)',\n",
              " 'https://lb.wikipedia.org/wiki/Python',\n",
              " 'https://hu.wikipedia.org/wiki/Python_(egy%C3%A9rtelm%C5%B1s%C3%ADt%C5%91_lap)',\n",
              " 'https://mr.wikipedia.org/wiki/%E0%A4%AA%E0%A4%BE%E0%A4%AF%E0%A4%A5%E0%A5%89%E0%A4%A8_(%E0%A4%86%E0%A4%9C%E0%A5%8D%E0%A4%9E%E0%A4%BE%E0%A4%B5%E0%A4%B2%E0%A5%80_%E0%A4%AD%E0%A4%BE%E0%A4%B7%E0%A4%BE)',\n",
              " 'https://nl.wikipedia.org/wiki/Python',\n",
              " 'https://ja.wikipedia.org/wiki/%E3%83%91%E3%82%A4%E3%82%BD%E3%83%B3',\n",
              " 'https://no.wikipedia.org/wiki/Pyton',\n",
              " 'https://pl.wikipedia.org/wiki/Pyton',\n",
              " 'https://pt.wikipedia.org/wiki/Python_(desambigua%C3%A7%C3%A3o)',\n",
              " 'https://ru.wikipedia.org/wiki/Python_(%D0%B7%D0%BD%D0%B0%D1%87%D0%B5%D0%BD%D0%B8%D1%8F)',\n",
              " 'https://sk.wikipedia.org/wiki/Python',\n",
              " 'https://sr.wikipedia.org/wiki/%D0%9F%D0%B8%D1%82%D0%BE%D0%BD_(%D0%B2%D0%B8%D1%88%D0%B5%D0%B7%D0%BD%D0%B0%D1%87%D0%BD%D0%B0_%D0%BE%D0%B4%D1%80%D0%B5%D0%B4%D0%BD%D0%B8%D1%86%D0%B0)',\n",
              " 'https://sh.wikipedia.org/wiki/Python',\n",
              " 'https://fi.wikipedia.org/wiki/Python',\n",
              " 'https://sv.wikipedia.org/wiki/Pyton',\n",
              " 'https://th.wikipedia.org/wiki/%E0%B9%84%E0%B8%9E%E0%B8%97%E0%B8%AD%E0%B8%99',\n",
              " 'https://tr.wikipedia.org/wiki/Python_(anlam_ayr%C4%B1m%C4%B1)',\n",
              " 'https://uk.wikipedia.org/wiki/%D0%9F%D1%96%D1%84%D0%BE%D0%BD',\n",
              " 'https://ur.wikipedia.org/wiki/%D9%BE%D8%A7%D8%A6%DB%8C%D8%AA%DA%BE%D9%88%D9%86',\n",
              " 'https://vi.wikipedia.org/wiki/Python',\n",
              " 'https://zh.wikipedia.org/wiki/Python_(%E6%B6%88%E6%AD%A7%E4%B9%89)',\n",
              " 'https://www.wikidata.org/wiki/Special:EntityPage/Q747452#sitelinks-wikipedia',\n",
              " 'https://en.wiktionary.org/wiki/Python',\n",
              " 'https://en.wiktionary.org/wiki/python',\n",
              " 'https://en.wikipedia.org/w/index.php?title=Special:WhatLinksHere/Python&namespace=0',\n",
              " 'https://en.wikipedia.org/w/index.php?title=Python&oldid=1139211777',\n",
              " 'https://foundation.wikimedia.org/wiki/Privacy_policy',\n",
              " 'https://developer.wikimedia.org',\n",
              " 'https://stats.wikimedia.org/#/en.wikipedia.org',\n",
              " 'https://foundation.wikimedia.org/wiki/Cookie_statement',\n",
              " 'https://wikimediafoundation.org/',\n",
              " 'https://www.mediawiki.org/']"
            ]
          },
          "metadata": {},
          "execution_count": 214
        }
      ]
    },
    {
      "cell_type": "code",
      "source": [],
      "metadata": {
        "id": "PrtgY5cbU-aH"
      },
      "execution_count": null,
      "outputs": []
    }
  ]
}