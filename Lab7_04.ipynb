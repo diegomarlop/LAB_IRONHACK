{
  "nbformat": 4,
  "nbformat_minor": 0,
  "metadata": {
    "colab": {
      "provenance": [],
      "authorship_tag": "ABX9TyMSoRiCXmaX+ZCZu7S4B1N+",
      "include_colab_link": true
    },
    "kernelspec": {
      "name": "python3",
      "display_name": "Python 3"
    },
    "language_info": {
      "name": "python"
    }
  },
  "cells": [
    {
      "cell_type": "markdown",
      "metadata": {
        "id": "view-in-github",
        "colab_type": "text"
      },
      "source": [
        "<a href=\"https://colab.research.google.com/github/diegomarlop/LAB_IRONHACK/blob/main/Lab7_04.ipynb\" target=\"_parent\"><img src=\"https://colab.research.google.com/assets/colab-badge.svg\" alt=\"Open In Colab\"/></a>"
      ]
    },
    {
      "cell_type": "markdown",
      "source": [
        "#Lab | Inferential statistics - T-test & P-value"
      ],
      "metadata": {
        "id": "AfTxxCUi9JoI"
      }
    },
    {
      "cell_type": "code",
      "execution_count": null,
      "metadata": {
        "id": "jsniCcQH9D1y"
      },
      "outputs": [],
      "source": [
        "#1\n",
        "#We will have another simple example on two sample t test (pooled- when the variances are equal). But this time this is a one sided t-test\n",
        "\n",
        "#In a packing plant, a machine packs cartons with jars. It is supposed that a new machine will pack faster on the average than the machine currently used. \n",
        "#To test that hypothesis, the times it takes each machine to pack ten cartons are recorded. \n",
        "#The results, in seconds, are shown in the tables in the file files_for_lab/machine.txt. \n",
        "#Assume that there is sufficient evidence to conduct the t test, does the data provide sufficient evidence to show if one machine is better than the other\n",
        "\n",
        "\"\"\"\n",
        "New machine\t    Old machine\n",
        "42.1\t        42.7\n",
        "41\t          43.6\n",
        "41.3\t        43.8\n",
        "41.8\t        43.3\n",
        "42.4\t        42.5\n",
        "42.8\t        43.5\n",
        "43.2\t        43.1\n",
        "42.3\t        41.7\n",
        "41.8\t        44\n",
        "42.7\t        44.1\n",
        "\n",
        "\"\"\"\n",
        "import numpy as np\n",
        "from statistics import math"
      ]
    },
    {
      "cell_type": "code",
      "source": [
        "new_m = np.array([42.1,41,41.3,41.8,42.4,42.8,43.2,42.3,41.8,42.2])"
      ],
      "metadata": {
        "id": "laDMf7_fBHYe"
      },
      "execution_count": null,
      "outputs": []
    },
    {
      "cell_type": "code",
      "source": [
        "mean_nm = np.mean(new_m)\n",
        "mean_nm"
      ],
      "metadata": {
        "colab": {
          "base_uri": "https://localhost:8080/"
        },
        "id": "KIrp4DErBe2h",
        "outputId": "cc98a8f0-f39d-4897-c782-e186468730f8"
      },
      "execution_count": null,
      "outputs": [
        {
          "output_type": "execute_result",
          "data": {
            "text/plain": [
              "42.089999999999996"
            ]
          },
          "metadata": {},
          "execution_count": 25
        }
      ]
    },
    {
      "cell_type": "code",
      "source": [
        "old_m = np.array([42.7,43.6,43.8,43.3,42.5,43.5,43.1,41.7,44,44.1])"
      ],
      "metadata": {
        "id": "Cc6doLNEBe55"
      },
      "execution_count": null,
      "outputs": []
    },
    {
      "cell_type": "code",
      "source": [
        "mean_om = np.mean(old_m)\n",
        "mean_om"
      ],
      "metadata": {
        "colab": {
          "base_uri": "https://localhost:8080/"
        },
        "id": "M8XHe9H2CEAR",
        "outputId": "0e02003e-aaad-4544-b3fa-01344bbff3e4"
      },
      "execution_count": null,
      "outputs": [
        {
          "output_type": "execute_result",
          "data": {
            "text/plain": [
              "43.230000000000004"
            ]
          },
          "metadata": {},
          "execution_count": 24
        }
      ]
    },
    {
      "cell_type": "code",
      "source": [
        "std_nm = np.std(new_m)\n",
        "std_om = np.std(old_m)\n",
        "print(std_nm)\n",
        "print(std_om)"
      ],
      "metadata": {
        "colab": {
          "base_uri": "https://localhost:8080/"
        },
        "id": "bTP0mvRCApjn",
        "outputId": "48ab328a-4dfd-49a6-c1a0-f36c5885c6a7"
      },
      "execution_count": null,
      "outputs": [
        {
          "output_type": "stream",
          "name": "stdout",
          "text": [
            "0.6220128616033602\n",
            "0.7114070564732956\n"
          ]
        }
      ]
    },
    {
      "cell_type": "code",
      "source": [
        "n_nm = 10\n",
        "n_om = 10\n",
        "\n",
        "t = (mean_nm - mean_om)/math.sqrt(math.pow(std_nm,2)/n_nm + math.pow(std_om,2)/n_om)\n",
        "t"
      ],
      "metadata": {
        "colab": {
          "base_uri": "https://localhost:8080/"
        },
        "id": "MUbDG3ZKAppy",
        "outputId": "d1ad4bd3-d05f-475b-db6d-57f2bc0b5933"
      },
      "execution_count": null,
      "outputs": [
        {
          "output_type": "execute_result",
          "data": {
            "text/plain": [
              "-3.8148645440384774"
            ]
          },
          "metadata": {},
          "execution_count": 32
        }
      ]
    },
    {
      "cell_type": "code",
      "source": [
        "import scipy.stats\n",
        "(1-scipy.stats.t.sf(-3.8148, df=(n_nm-1)+(n_om-1)))*2"
      ],
      "metadata": {
        "colab": {
          "base_uri": "https://localhost:8080/"
        },
        "id": "_SsLMOzMErKM",
        "outputId": "30f2d05c-0372-494e-a358-b3d8c4bc65c9"
      },
      "execution_count": null,
      "outputs": [
        {
          "output_type": "execute_result",
          "data": {
            "text/plain": [
              "0.0012688441377495252"
            ]
          },
          "metadata": {},
          "execution_count": 38
        }
      ]
    },
    {
      "cell_type": "code",
      "source": [
        "## calculator --> 0.00126884\n",
        "## the machines aren't equal "
      ],
      "metadata": {
        "id": "OJ8By3RmErXV"
      },
      "execution_count": null,
      "outputs": []
    },
    {
      "cell_type": "code",
      "source": [
        "#2\n",
        "#An additional problem (not mandatory): In this case we can't assume that the population variances are equal. \n",
        "#Hence in this case we cannot pool the variances. Independent random samples of 17 sophomores and 13 juniors attending a large university yield the following data on grade point averages. \n",
        "#Data is provided in the file files_for_lab/student_gpa.txt. At the 5% significance level, do the data provide sufficient evidence to conclude that the mean GPAs of sophomores and juniors at the university differ?\n",
        "\"\"\"\n",
        "Sophomores\t  Juniors\n",
        "3.04\t        2.56\n",
        "1.71\t        2.77\n",
        "3.3\t          2.7\n",
        "2.88\t        3\n",
        "2.11\t        2.98\n",
        "2.6\t          3.47\n",
        "2.92\t        3.26\n",
        "3.6\t          3.2\n",
        "2.28\t        3.19\n",
        "2.82\t        2.65\n",
        "3.03\t        3\n",
        "3.13\t        3.39\n",
        "2.86\t        2.58\n",
        "3.49\t\n",
        "3.11\t\n",
        "2.13\t\n",
        "3.27\n",
        "\n",
        "\"\"\""
      ],
      "metadata": {
        "id": "iY9a-dzt9G6N"
      },
      "execution_count": null,
      "outputs": []
    },
    {
      "cell_type": "code",
      "source": [
        "import pandas as pd\n",
        "data = pd.read_csv('student_gpa.txt',sep='\\t')"
      ],
      "metadata": {
        "id": "WHolNkiq9G8d"
      },
      "execution_count": 8,
      "outputs": []
    },
    {
      "cell_type": "code",
      "source": [
        "data"
      ],
      "metadata": {
        "colab": {
          "base_uri": "https://localhost:8080/",
          "height": 582
        },
        "id": "J2SfSaHB9G-5",
        "outputId": "005da2ef-3bd6-4ed4-91ff-81acd7d442f8"
      },
      "execution_count": 9,
      "outputs": [
        {
          "output_type": "execute_result",
          "data": {
            "text/plain": [
              "    Sophomores    Juniors\n",
              "0         3.04       2.56\n",
              "1         1.71       2.77\n",
              "2         3.30       2.70\n",
              "3         2.88       3.00\n",
              "4         2.11       2.98\n",
              "5         2.60       3.47\n",
              "6         2.92       3.26\n",
              "7         3.60       3.20\n",
              "8         2.28       3.19\n",
              "9         2.82       2.65\n",
              "10        3.03       3.00\n",
              "11        3.13       3.39\n",
              "12        2.86       2.58\n",
              "13        3.49        NaN\n",
              "14        3.11        NaN\n",
              "15        2.13        NaN\n",
              "16        3.27        NaN"
            ],
            "text/html": [
              "\n",
              "  <div id=\"df-5d7426bc-05cc-4a3e-88b4-84710e8ee634\">\n",
              "    <div class=\"colab-df-container\">\n",
              "      <div>\n",
              "<style scoped>\n",
              "    .dataframe tbody tr th:only-of-type {\n",
              "        vertical-align: middle;\n",
              "    }\n",
              "\n",
              "    .dataframe tbody tr th {\n",
              "        vertical-align: top;\n",
              "    }\n",
              "\n",
              "    .dataframe thead th {\n",
              "        text-align: right;\n",
              "    }\n",
              "</style>\n",
              "<table border=\"1\" class=\"dataframe\">\n",
              "  <thead>\n",
              "    <tr style=\"text-align: right;\">\n",
              "      <th></th>\n",
              "      <th>Sophomores</th>\n",
              "      <th>Juniors</th>\n",
              "    </tr>\n",
              "  </thead>\n",
              "  <tbody>\n",
              "    <tr>\n",
              "      <th>0</th>\n",
              "      <td>3.04</td>\n",
              "      <td>2.56</td>\n",
              "    </tr>\n",
              "    <tr>\n",
              "      <th>1</th>\n",
              "      <td>1.71</td>\n",
              "      <td>2.77</td>\n",
              "    </tr>\n",
              "    <tr>\n",
              "      <th>2</th>\n",
              "      <td>3.30</td>\n",
              "      <td>2.70</td>\n",
              "    </tr>\n",
              "    <tr>\n",
              "      <th>3</th>\n",
              "      <td>2.88</td>\n",
              "      <td>3.00</td>\n",
              "    </tr>\n",
              "    <tr>\n",
              "      <th>4</th>\n",
              "      <td>2.11</td>\n",
              "      <td>2.98</td>\n",
              "    </tr>\n",
              "    <tr>\n",
              "      <th>5</th>\n",
              "      <td>2.60</td>\n",
              "      <td>3.47</td>\n",
              "    </tr>\n",
              "    <tr>\n",
              "      <th>6</th>\n",
              "      <td>2.92</td>\n",
              "      <td>3.26</td>\n",
              "    </tr>\n",
              "    <tr>\n",
              "      <th>7</th>\n",
              "      <td>3.60</td>\n",
              "      <td>3.20</td>\n",
              "    </tr>\n",
              "    <tr>\n",
              "      <th>8</th>\n",
              "      <td>2.28</td>\n",
              "      <td>3.19</td>\n",
              "    </tr>\n",
              "    <tr>\n",
              "      <th>9</th>\n",
              "      <td>2.82</td>\n",
              "      <td>2.65</td>\n",
              "    </tr>\n",
              "    <tr>\n",
              "      <th>10</th>\n",
              "      <td>3.03</td>\n",
              "      <td>3.00</td>\n",
              "    </tr>\n",
              "    <tr>\n",
              "      <th>11</th>\n",
              "      <td>3.13</td>\n",
              "      <td>3.39</td>\n",
              "    </tr>\n",
              "    <tr>\n",
              "      <th>12</th>\n",
              "      <td>2.86</td>\n",
              "      <td>2.58</td>\n",
              "    </tr>\n",
              "    <tr>\n",
              "      <th>13</th>\n",
              "      <td>3.49</td>\n",
              "      <td>NaN</td>\n",
              "    </tr>\n",
              "    <tr>\n",
              "      <th>14</th>\n",
              "      <td>3.11</td>\n",
              "      <td>NaN</td>\n",
              "    </tr>\n",
              "    <tr>\n",
              "      <th>15</th>\n",
              "      <td>2.13</td>\n",
              "      <td>NaN</td>\n",
              "    </tr>\n",
              "    <tr>\n",
              "      <th>16</th>\n",
              "      <td>3.27</td>\n",
              "      <td>NaN</td>\n",
              "    </tr>\n",
              "  </tbody>\n",
              "</table>\n",
              "</div>\n",
              "      <button class=\"colab-df-convert\" onclick=\"convertToInteractive('df-5d7426bc-05cc-4a3e-88b4-84710e8ee634')\"\n",
              "              title=\"Convert this dataframe to an interactive table.\"\n",
              "              style=\"display:none;\">\n",
              "        \n",
              "  <svg xmlns=\"http://www.w3.org/2000/svg\" height=\"24px\"viewBox=\"0 0 24 24\"\n",
              "       width=\"24px\">\n",
              "    <path d=\"M0 0h24v24H0V0z\" fill=\"none\"/>\n",
              "    <path d=\"M18.56 5.44l.94 2.06.94-2.06 2.06-.94-2.06-.94-.94-2.06-.94 2.06-2.06.94zm-11 1L8.5 8.5l.94-2.06 2.06-.94-2.06-.94L8.5 2.5l-.94 2.06-2.06.94zm10 10l.94 2.06.94-2.06 2.06-.94-2.06-.94-.94-2.06-.94 2.06-2.06.94z\"/><path d=\"M17.41 7.96l-1.37-1.37c-.4-.4-.92-.59-1.43-.59-.52 0-1.04.2-1.43.59L10.3 9.45l-7.72 7.72c-.78.78-.78 2.05 0 2.83L4 21.41c.39.39.9.59 1.41.59.51 0 1.02-.2 1.41-.59l7.78-7.78 2.81-2.81c.8-.78.8-2.07 0-2.86zM5.41 20L4 18.59l7.72-7.72 1.47 1.35L5.41 20z\"/>\n",
              "  </svg>\n",
              "      </button>\n",
              "      \n",
              "  <style>\n",
              "    .colab-df-container {\n",
              "      display:flex;\n",
              "      flex-wrap:wrap;\n",
              "      gap: 12px;\n",
              "    }\n",
              "\n",
              "    .colab-df-convert {\n",
              "      background-color: #E8F0FE;\n",
              "      border: none;\n",
              "      border-radius: 50%;\n",
              "      cursor: pointer;\n",
              "      display: none;\n",
              "      fill: #1967D2;\n",
              "      height: 32px;\n",
              "      padding: 0 0 0 0;\n",
              "      width: 32px;\n",
              "    }\n",
              "\n",
              "    .colab-df-convert:hover {\n",
              "      background-color: #E2EBFA;\n",
              "      box-shadow: 0px 1px 2px rgba(60, 64, 67, 0.3), 0px 1px 3px 1px rgba(60, 64, 67, 0.15);\n",
              "      fill: #174EA6;\n",
              "    }\n",
              "\n",
              "    [theme=dark] .colab-df-convert {\n",
              "      background-color: #3B4455;\n",
              "      fill: #D2E3FC;\n",
              "    }\n",
              "\n",
              "    [theme=dark] .colab-df-convert:hover {\n",
              "      background-color: #434B5C;\n",
              "      box-shadow: 0px 1px 3px 1px rgba(0, 0, 0, 0.15);\n",
              "      filter: drop-shadow(0px 1px 2px rgba(0, 0, 0, 0.3));\n",
              "      fill: #FFFFFF;\n",
              "    }\n",
              "  </style>\n",
              "\n",
              "      <script>\n",
              "        const buttonEl =\n",
              "          document.querySelector('#df-5d7426bc-05cc-4a3e-88b4-84710e8ee634 button.colab-df-convert');\n",
              "        buttonEl.style.display =\n",
              "          google.colab.kernel.accessAllowed ? 'block' : 'none';\n",
              "\n",
              "        async function convertToInteractive(key) {\n",
              "          const element = document.querySelector('#df-5d7426bc-05cc-4a3e-88b4-84710e8ee634');\n",
              "          const dataTable =\n",
              "            await google.colab.kernel.invokeFunction('convertToInteractive',\n",
              "                                                     [key], {});\n",
              "          if (!dataTable) return;\n",
              "\n",
              "          const docLinkHtml = 'Like what you see? Visit the ' +\n",
              "            '<a target=\"_blank\" href=https://colab.research.google.com/notebooks/data_table.ipynb>data table notebook</a>'\n",
              "            + ' to learn more about interactive tables.';\n",
              "          element.innerHTML = '';\n",
              "          dataTable['output_type'] = 'display_data';\n",
              "          await google.colab.output.renderOutput(dataTable, element);\n",
              "          const docLink = document.createElement('div');\n",
              "          docLink.innerHTML = docLinkHtml;\n",
              "          element.appendChild(docLink);\n",
              "        }\n",
              "      </script>\n",
              "    </div>\n",
              "  </div>\n",
              "  "
            ]
          },
          "metadata": {},
          "execution_count": 9
        }
      ]
    },
    {
      "cell_type": "code",
      "source": [
        "mean_s = data['Sophomores'].mean()"
      ],
      "metadata": {
        "id": "iOXRY7WnenrG"
      },
      "execution_count": 20,
      "outputs": []
    },
    {
      "cell_type": "code",
      "source": [
        "mean_j = data['  Juniors'].mean()\n",
        "mean_j"
      ],
      "metadata": {
        "colab": {
          "base_uri": "https://localhost:8080/"
        },
        "id": "nNaYsnvIentp",
        "outputId": "940a340e-c623-464c-a579-af90dc881c07"
      },
      "execution_count": 12,
      "outputs": [
        {
          "output_type": "execute_result",
          "data": {
            "text/plain": [
              "2.980769230769231"
            ]
          },
          "metadata": {},
          "execution_count": 12
        }
      ]
    },
    {
      "cell_type": "code",
      "source": [
        "std_s = data['Sophomores'].std()\n",
        "std_j = data['  Juniors'].std()\n",
        "print(std_s)\n",
        "print(std_j)"
      ],
      "metadata": {
        "colab": {
          "base_uri": "https://localhost:8080/"
        },
        "id": "c6LaDz9Ven0K",
        "outputId": "66a77399-6306-4614-a567-97c605986896"
      },
      "execution_count": 14,
      "outputs": [
        {
          "output_type": "stream",
          "name": "stdout",
          "text": [
            "0.5198317035349037\n",
            "0.3092588327615327\n"
          ]
        }
      ]
    },
    {
      "cell_type": "code",
      "source": [
        "from statistics import math\n",
        "n_s= len(data['Sophomores'])\n",
        "n_j = len(data['  Juniors'])-data['  Juniors'].isna().sum()\n",
        "\n",
        "t = (mean_s - mean_j)/math.sqrt(math.pow(std_s,2)/n_s + math.pow(std_j,2)/n_j)\n",
        "t"
      ],
      "metadata": {
        "colab": {
          "base_uri": "https://localhost:8080/"
        },
        "id": "yv-Pehoken2l",
        "outputId": "fab51f66-8a94-4e4c-87ac-f810c10b56a3"
      },
      "execution_count": 22,
      "outputs": [
        {
          "output_type": "execute_result",
          "data": {
            "text/plain": [
              "-0.9231495630900276"
            ]
          },
          "metadata": {},
          "execution_count": 22
        }
      ]
    },
    {
      "cell_type": "code",
      "source": [
        "import scipy.stats\n",
        "(1-scipy.stats.t.sf(-0.9231, df=(n_s-1)+(n_j-1)))*2"
      ],
      "metadata": {
        "colab": {
          "base_uri": "https://localhost:8080/"
        },
        "id": "UCM6uN21gTAS",
        "outputId": "320d2915-af7e-472f-af09-b8ca496d9af1"
      },
      "execution_count": 23,
      "outputs": [
        {
          "output_type": "execute_result",
          "data": {
            "text/plain": [
              "0.36384185819695447"
            ]
          },
          "metadata": {},
          "execution_count": 23
        }
      ]
    },
    {
      "cell_type": "code",
      "source": [
        "## calculator --> -0.36384186"
      ],
      "metadata": {
        "id": "UU0atUNfgX5P"
      },
      "execution_count": null,
      "outputs": []
    },
    {
      "cell_type": "code",
      "source": [
        "from scipy import stats\n"
      ],
      "metadata": {
        "id": "rqOpfdO09HFP"
      },
      "execution_count": 4,
      "outputs": []
    },
    {
      "cell_type": "code",
      "source": [
        "stats.ttest_ind(data['Sophomores'],data['  Juniors'],nan_policy = 'omit')"
      ],
      "metadata": {
        "colab": {
          "base_uri": "https://localhost:8080/"
        },
        "id": "f_Bv7EfQ9HHS",
        "outputId": "3bd5bf5b-60c9-40f1-cab2-8d4f54ca3d7c"
      },
      "execution_count": 7,
      "outputs": [
        {
          "output_type": "execute_result",
          "data": {
            "text/plain": [
              "Ttest_indResult(statistic=-0.864325455323425, pvalue=0.394753596666959)"
            ]
          },
          "metadata": {},
          "execution_count": 7
        }
      ]
    },
    {
      "cell_type": "code",
      "source": [],
      "metadata": {
        "id": "U_6TlPgA9HJe"
      },
      "execution_count": null,
      "outputs": []
    }
  ]
}